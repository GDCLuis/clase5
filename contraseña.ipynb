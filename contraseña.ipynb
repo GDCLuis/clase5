{
 "cells": [
  {
   "cell_type": "markdown",
   "metadata": {},
   "source": [
    "*Clase 5* - *Tarea 5*\n",
    "\n",
    "**Estudiante:** Godoy Del Castillo Luis"
   ]
  },
  {
   "cell_type": "markdown",
   "metadata": {},
   "source": [
    "Validación de Contraseña: Pide al usuario que ingrese una contraseña. Utiliza un bucle while para seguir solicitando la contraseña hasta que coincida con una contraseña predefinida (por ejemplo, \"python123\"). Muestra un mensaje de éxito cuando la contraseña es correcta."
   ]
  },
  {
   "cell_type": "code",
   "execution_count": 1,
   "metadata": {},
   "outputs": [
    {
     "name": "stdout",
     "output_type": "stream",
     "text": [
      "Contraseña incorrecta. Intente de nuevo.\n",
      "Contraseña incorrecta. Intente de nuevo.\n",
      "¡Contraseña correcta! Acceso concedido.\n"
     ]
    }
   ],
   "source": [
    "contraseña_correcta = \"python123\"\n",
    "\n",
    "contraseña_usuario = \"\"\n",
    "\n",
    "while contraseña_usuario != contraseña_correcta:\n",
    "    contraseña_usuario = input(\"Ingrese la contraseña: \")\n",
    "    if contraseña_usuario != contraseña_correcta:\n",
    "        print(\"Contraseña incorrecta. Intente de nuevo.\")\n",
    "\n",
    "# Mostrar mensaje de éxito cuando la contraseña es correcta\n",
    "print(\"¡Contraseña correcta! Acceso concedido.\")\n"
   ]
  }
 ],
 "metadata": {
  "kernelspec": {
   "display_name": "Python 3",
   "language": "python",
   "name": "python3"
  },
  "language_info": {
   "codemirror_mode": {
    "name": "ipython",
    "version": 3
   },
   "file_extension": ".py",
   "mimetype": "text/x-python",
   "name": "python",
   "nbconvert_exporter": "python",
   "pygments_lexer": "ipython3",
   "version": "3.12.3"
  }
 },
 "nbformat": 4,
 "nbformat_minor": 2
}
