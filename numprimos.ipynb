{
 "cells": [
  {
   "cell_type": "markdown",
   "metadata": {},
   "source": [
    "*Clase 5* - *Tarea 5*\n",
    "\n",
    "**Estudiante:** Godoy Del Castillo Luis"
   ]
  },
  {
   "cell_type": "markdown",
   "metadata": {},
   "source": [
    "Identificador de Números Primos: Crea un programa que solicite al usuario un número entero. Utilizando un bucle for, verifica si el número es primo (es decir, solo divisible por 1 y por sí mismo). Imprime un mensaje indicando si el número es primo o no."
   ]
  },
  {
   "cell_type": "code",
   "execution_count": 1,
   "metadata": {},
   "outputs": [
    {
     "name": "stdout",
     "output_type": "stream",
     "text": [
      "El numero 7 es primo.\n"
     ]
    }
   ],
   "source": [
    "def es_primo(numero):\n",
    "    if numero <= 1:\n",
    "        return False\n",
    "    for i in range(2, int(numero**0.5) + 1):\n",
    "        if numero % i == 0:\n",
    "            return False\n",
    "    return True\n",
    "\n",
    "\n",
    "numero_usuario = int(input(\"Ingrese un numero entero: \"))\n",
    "\n",
    "\n",
    "if es_primo(numero_usuario):\n",
    "    print(f\"El numero {numero_usuario} es primo.\")\n",
    "else:\n",
    "    print(f\"El numero {numero_usuario} no es primo.\")"
   ]
  }
 ],
 "metadata": {
  "kernelspec": {
   "display_name": "Python 3",
   "language": "python",
   "name": "python3"
  },
  "language_info": {
   "codemirror_mode": {
    "name": "ipython",
    "version": 3
   },
   "file_extension": ".py",
   "mimetype": "text/x-python",
   "name": "python",
   "nbconvert_exporter": "python",
   "pygments_lexer": "ipython3",
   "version": "3.12.3"
  }
 },
 "nbformat": 4,
 "nbformat_minor": 2
}
