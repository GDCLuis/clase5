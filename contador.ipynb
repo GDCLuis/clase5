{
 "cells": [
  {
   "cell_type": "markdown",
   "metadata": {},
   "source": [
    "*Clase 5* - *Tarea 5*\n",
    "\n",
    "**Estudiante:** Godoy Del Castillo Luis"
   ]
  },
  {
   "cell_type": "markdown",
   "metadata": {},
   "source": [
    "Contador de Números Pares e Impares: Escribe un programa que recorra una lista de números del 1 al 20. Utilizando un bucle for, determina cuántos de estos números son pares y cuántos son impares. Al final, imprime la cantidad de números pares e impares."
   ]
  },
  {
   "cell_type": "code",
   "execution_count": 1,
   "metadata": {},
   "outputs": [
    {
     "name": "stdout",
     "output_type": "stream",
     "text": [
      "Cantidad de números pares: 10\n",
      "Cantidad de números impares: 10\n"
     ]
    }
   ],
   "source": [
    "\n",
    "numpares = 0\n",
    "numimpares = 0\n",
    "\n",
    "for num in range(1, 21):\n",
    "    if num % 2 == 0:\n",
    "        numpares += 1\n",
    "    else:\n",
    "        numimpares += 1\n",
    "\n",
    "\n",
    "print(f\"Cantidad de números pares: {numpares}\")\n",
    "print(f\"Cantidad de números impares: {numimpares}\")\n"
   ]
  }
 ],
 "metadata": {
  "kernelspec": {
   "display_name": "Python 3",
   "language": "python",
   "name": "python3"
  },
  "language_info": {
   "codemirror_mode": {
    "name": "ipython",
    "version": 3
   },
   "file_extension": ".py",
   "mimetype": "text/x-python",
   "name": "python",
   "nbconvert_exporter": "python",
   "pygments_lexer": "ipython3",
   "version": "3.12.3"
  }
 },
 "nbformat": 4,
 "nbformat_minor": 2
}
