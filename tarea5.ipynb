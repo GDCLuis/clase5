{
 "cells": [
  {
   "cell_type": "markdown",
   "metadata": {},
   "source": [
    "*Clase 5* - *Tarea 5*\n",
    "\n",
    "**Estudiante:** Godoy Del Castillo Luis"
   ]
  },
  {
   "cell_type": "markdown",
   "metadata": {},
   "source": [
    "Calculadora Simple: Crea un programa que solicite al usuario dos números y una operación (suma, resta, multiplicación o división). Luego, utilizando estructuras condicionales (if, elif, else), realiza la operación seleccionada e imprime el resultado."
   ]
  },
  {
   "cell_type": "code",
   "execution_count": 1,
   "metadata": {},
   "outputs": [
    {
     "name": "stdout",
     "output_type": "stream",
     "text": [
      "El resultado de la suma es: 3.0\n"
     ]
    }
   ],
   "source": [
    "def calculadora():\n",
    "    # pedir los numeros\n",
    "    num1 = float(input(\"Ingrese el primer número: \"))\n",
    "    num2 = float(input(\"Ingrese el segundo número: \"))\n",
    "    operacion = input(\"Ingrese la operación (suma, resta, multiplicación, división): \").strip().lower()\n",
    "\n",
    "    # usar condicionales\n",
    "    if operacion == 'suma':\n",
    "        resultado = num1 + num2\n",
    "        print(f\"El resultado de la suma es: {resultado}\")\n",
    "    elif operacion == 'resta':\n",
    "        resultado = num1 - num2\n",
    "        print(f\"El resultado de la resta es: {resultado}\")\n",
    "    elif operacion == 'multiplicacion':\n",
    "        resultado = num1 * num2\n",
    "        print(f\"El resultado de la multiplicación es: {resultado}\")\n",
    "    elif operacion == 'division':\n",
    "        if num2 != 0:\n",
    "            resultado = num1 / num2\n",
    "            print(f\"El resultado de la división es: {resultado}\")\n",
    "        else:\n",
    "            print(\"Error: No se puede dividir entre cero.\")\n",
    "    else:\n",
    "        print(\"Operacion no válida. Por favor, elija entre suma, resta, multiplicacion o division.\")\n",
    "\n",
    "\n",
    "calculadora()\n"
   ]
  }
 ],
 "metadata": {
  "kernelspec": {
   "display_name": "Python 3",
   "language": "python",
   "name": "python3"
  },
  "language_info": {
   "codemirror_mode": {
    "name": "ipython",
    "version": 3
   },
   "file_extension": ".py",
   "mimetype": "text/x-python",
   "name": "python",
   "nbconvert_exporter": "python",
   "pygments_lexer": "ipython3",
   "version": "3.12.3"
  }
 },
 "nbformat": 4,
 "nbformat_minor": 2
}
